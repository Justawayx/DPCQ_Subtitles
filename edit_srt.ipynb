{
 "cells": [
  {
   "cell_type": "code",
   "execution_count": 12,
   "metadata": {},
   "outputs": [],
   "source": [
    "num_frames_per_sec = 25 # n frames per second\n",
    "ms_per_frame = int(1000/num_frames_per_sec)"
   ]
  },
  {
   "cell_type": "code",
   "execution_count": 22,
   "metadata": {},
   "outputs": [],
   "source": [
    "f = open('btth_03_timed2.srt', 'r', encoding='utf8')\n",
    "\n",
    "output_f = open('btth_03_final.srt', 'w')\n",
    "\n",
    "for line in f:    \n",
    "    if line[:3] == '00:':\n",
    "        end_secs = line.split(':')[-1]\n",
    "        secs, ms = end_secs.split(',')\n",
    "        secs = int(secs); ms = int(ms)\n",
    "        if ms < (1000-ms_per_frame):\n",
    "            new_ms = ms + ms_per_frame\n",
    "        else: # 960 or greater\n",
    "            new_ms = (ms + ms_per_frame) - 1000\n",
    "            secs += 1\n",
    "        new_end_secs = ','.join([str(secs), str(new_ms)])\n",
    "        new_line = line[:23] + new_end_secs + '\\n'\n",
    "        output_f.write(new_line)\n",
    "    else:\n",
    "        output_f.write(line) # Copy original line\n",
    "\n",
    "f.close()\n",
    "output_f.close()"
   ]
  },
  {
   "cell_type": "code",
   "execution_count": 17,
   "metadata": {},
   "outputs": [
    {
     "data": {
      "text/plain": [
       "'00:'"
      ]
     },
     "execution_count": 17,
     "metadata": {},
     "output_type": "execute_result"
    }
   ],
   "source": [
    "line[:3]"
   ]
  }
 ],
 "metadata": {
  "kernelspec": {
   "display_name": "Python 3",
   "language": "python",
   "name": "python3"
  },
  "language_info": {
   "codemirror_mode": {
    "name": "ipython",
    "version": 3
   },
   "file_extension": ".py",
   "mimetype": "text/x-python",
   "name": "python",
   "nbconvert_exporter": "python",
   "pygments_lexer": "ipython3",
   "version": "3.6.4"
  }
 },
 "nbformat": 4,
 "nbformat_minor": 2
}
